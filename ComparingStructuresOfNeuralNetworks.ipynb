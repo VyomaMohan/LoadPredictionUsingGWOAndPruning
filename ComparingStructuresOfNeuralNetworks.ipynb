{
 "cells": [
  {
   "cell_type": "markdown",
   "id": "43d3c46f",
   "metadata": {},
   "source": [
    "## Testing different architectures of neural networks before picking one that can be used in the study\n",
    "\n",
    "### Import and load data"
   ]
  },
  {
   "cell_type": "code",
   "execution_count": 17,
   "id": "5d25e66c",
   "metadata": {},
   "outputs": [],
   "source": [
    "import pandas as pd\n",
    "import numpy as np\n",
    "\n",
    "from sklearn.preprocessing import MinMaxScaler, StandardScaler\n",
    "from sklearn.preprocessing import OneHotEncoder\n",
    "from sklearn.preprocessing import LabelEncoder\n",
    "\n",
    "from sklearn.model_selection import train_test_split\n",
    "\n",
    "import tensorflow as tf\n",
    "from keras.layers import Dense, Conv1D, Flatten, GlobalAveragePooling1D, TimeDistributed, LSTM, AveragePooling1D, SimpleRNN, LeakyReLU"
   ]
  },
  {
   "cell_type": "code",
   "execution_count": 18,
   "id": "dc094fae",
   "metadata": {},
   "outputs": [],
   "source": [
    "import numpy.random as rd"
   ]
  },
  {
   "cell_type": "code",
   "execution_count": 19,
   "id": "f8098b60",
   "metadata": {},
   "outputs": [
    {
     "data": {
      "text/html": [
       "<div>\n",
       "<style scoped>\n",
       "    .dataframe tbody tr th:only-of-type {\n",
       "        vertical-align: middle;\n",
       "    }\n",
       "\n",
       "    .dataframe tbody tr th {\n",
       "        vertical-align: top;\n",
       "    }\n",
       "\n",
       "    .dataframe thead th {\n",
       "        text-align: right;\n",
       "    }\n",
       "</style>\n",
       "<table border=\"1\" class=\"dataframe\">\n",
       "  <thead>\n",
       "    <tr style=\"text-align: right;\">\n",
       "      <th></th>\n",
       "      <th>Usage</th>\n",
       "      <th>LaggingCurrentReactivePower</th>\n",
       "      <th>LeadingCurrentReactivePower</th>\n",
       "      <th>CO2</th>\n",
       "      <th>LaggingCurrentPowerFactor</th>\n",
       "      <th>LeadingCurrentPowerFactor</th>\n",
       "      <th>NSM</th>\n",
       "      <th>WeekStatus</th>\n",
       "      <th>Year</th>\n",
       "      <th>Month</th>\n",
       "      <th>...</th>\n",
       "      <th>SeaLevelPressure</th>\n",
       "      <th>CloudCover</th>\n",
       "      <th>Visibility</th>\n",
       "      <th>SolarRadiation</th>\n",
       "      <th>SolarEnergy</th>\n",
       "      <th>UvIndex</th>\n",
       "      <th>Conditions</th>\n",
       "      <th>SunriseHour</th>\n",
       "      <th>LoadType</th>\n",
       "      <th>SunsetHour</th>\n",
       "    </tr>\n",
       "  </thead>\n",
       "  <tbody>\n",
       "    <tr>\n",
       "      <th>0</th>\n",
       "      <td>3.17</td>\n",
       "      <td>2.95</td>\n",
       "      <td>0.00</td>\n",
       "      <td>0.0</td>\n",
       "      <td>73.21</td>\n",
       "      <td>100.00</td>\n",
       "      <td>900</td>\n",
       "      <td>Weekday</td>\n",
       "      <td>2018</td>\n",
       "      <td>1</td>\n",
       "      <td>...</td>\n",
       "      <td>1026.9</td>\n",
       "      <td>3.3</td>\n",
       "      <td>9.0</td>\n",
       "      <td>139.9</td>\n",
       "      <td>12.0</td>\n",
       "      <td>6</td>\n",
       "      <td>Clear</td>\n",
       "      <td>7</td>\n",
       "      <td>Light_Load</td>\n",
       "      <td>17</td>\n",
       "    </tr>\n",
       "    <tr>\n",
       "      <th>1</th>\n",
       "      <td>3.28</td>\n",
       "      <td>3.56</td>\n",
       "      <td>0.00</td>\n",
       "      <td>0.0</td>\n",
       "      <td>67.76</td>\n",
       "      <td>100.00</td>\n",
       "      <td>5400</td>\n",
       "      <td>Weekday</td>\n",
       "      <td>2018</td>\n",
       "      <td>1</td>\n",
       "      <td>...</td>\n",
       "      <td>1026.9</td>\n",
       "      <td>3.3</td>\n",
       "      <td>9.0</td>\n",
       "      <td>139.9</td>\n",
       "      <td>12.0</td>\n",
       "      <td>6</td>\n",
       "      <td>Clear</td>\n",
       "      <td>7</td>\n",
       "      <td>Light_Load</td>\n",
       "      <td>17</td>\n",
       "    </tr>\n",
       "    <tr>\n",
       "      <th>2</th>\n",
       "      <td>3.46</td>\n",
       "      <td>4.03</td>\n",
       "      <td>0.00</td>\n",
       "      <td>0.0</td>\n",
       "      <td>65.14</td>\n",
       "      <td>100.00</td>\n",
       "      <td>9900</td>\n",
       "      <td>Weekday</td>\n",
       "      <td>2018</td>\n",
       "      <td>1</td>\n",
       "      <td>...</td>\n",
       "      <td>1026.9</td>\n",
       "      <td>3.3</td>\n",
       "      <td>9.0</td>\n",
       "      <td>139.9</td>\n",
       "      <td>12.0</td>\n",
       "      <td>6</td>\n",
       "      <td>Clear</td>\n",
       "      <td>7</td>\n",
       "      <td>Light_Load</td>\n",
       "      <td>17</td>\n",
       "    </tr>\n",
       "    <tr>\n",
       "      <th>3</th>\n",
       "      <td>3.89</td>\n",
       "      <td>5.00</td>\n",
       "      <td>0.00</td>\n",
       "      <td>0.0</td>\n",
       "      <td>61.40</td>\n",
       "      <td>100.00</td>\n",
       "      <td>14400</td>\n",
       "      <td>Weekday</td>\n",
       "      <td>2018</td>\n",
       "      <td>1</td>\n",
       "      <td>...</td>\n",
       "      <td>1026.9</td>\n",
       "      <td>3.3</td>\n",
       "      <td>9.0</td>\n",
       "      <td>139.9</td>\n",
       "      <td>12.0</td>\n",
       "      <td>6</td>\n",
       "      <td>Clear</td>\n",
       "      <td>7</td>\n",
       "      <td>Light_Load</td>\n",
       "      <td>17</td>\n",
       "    </tr>\n",
       "    <tr>\n",
       "      <th>4</th>\n",
       "      <td>3.56</td>\n",
       "      <td>4.07</td>\n",
       "      <td>0.00</td>\n",
       "      <td>0.0</td>\n",
       "      <td>65.84</td>\n",
       "      <td>100.00</td>\n",
       "      <td>18900</td>\n",
       "      <td>Weekday</td>\n",
       "      <td>2018</td>\n",
       "      <td>1</td>\n",
       "      <td>...</td>\n",
       "      <td>1026.9</td>\n",
       "      <td>3.3</td>\n",
       "      <td>9.0</td>\n",
       "      <td>139.9</td>\n",
       "      <td>12.0</td>\n",
       "      <td>6</td>\n",
       "      <td>Clear</td>\n",
       "      <td>7</td>\n",
       "      <td>Light_Load</td>\n",
       "      <td>17</td>\n",
       "    </tr>\n",
       "    <tr>\n",
       "      <th>...</th>\n",
       "      <td>...</td>\n",
       "      <td>...</td>\n",
       "      <td>...</td>\n",
       "      <td>...</td>\n",
       "      <td>...</td>\n",
       "      <td>...</td>\n",
       "      <td>...</td>\n",
       "      <td>...</td>\n",
       "      <td>...</td>\n",
       "      <td>...</td>\n",
       "      <td>...</td>\n",
       "      <td>...</td>\n",
       "      <td>...</td>\n",
       "      <td>...</td>\n",
       "      <td>...</td>\n",
       "      <td>...</td>\n",
       "      <td>...</td>\n",
       "      <td>...</td>\n",
       "      <td>...</td>\n",
       "      <td>...</td>\n",
       "      <td>...</td>\n",
       "    </tr>\n",
       "    <tr>\n",
       "      <th>7003</th>\n",
       "      <td>3.42</td>\n",
       "      <td>0.00</td>\n",
       "      <td>9.79</td>\n",
       "      <td>0.0</td>\n",
       "      <td>100.00</td>\n",
       "      <td>32.98</td>\n",
       "      <td>64800</td>\n",
       "      <td>Weekday</td>\n",
       "      <td>2018</td>\n",
       "      <td>12</td>\n",
       "      <td>...</td>\n",
       "      <td>1035.8</td>\n",
       "      <td>19.6</td>\n",
       "      <td>10.5</td>\n",
       "      <td>143.6</td>\n",
       "      <td>12.5</td>\n",
       "      <td>6</td>\n",
       "      <td>Clear</td>\n",
       "      <td>7</td>\n",
       "      <td>Light_Load</td>\n",
       "      <td>17</td>\n",
       "    </tr>\n",
       "    <tr>\n",
       "      <th>7004</th>\n",
       "      <td>3.96</td>\n",
       "      <td>0.00</td>\n",
       "      <td>18.29</td>\n",
       "      <td>0.0</td>\n",
       "      <td>100.00</td>\n",
       "      <td>21.16</td>\n",
       "      <td>69300</td>\n",
       "      <td>Weekday</td>\n",
       "      <td>2018</td>\n",
       "      <td>12</td>\n",
       "      <td>...</td>\n",
       "      <td>1035.8</td>\n",
       "      <td>19.6</td>\n",
       "      <td>10.5</td>\n",
       "      <td>143.6</td>\n",
       "      <td>12.5</td>\n",
       "      <td>6</td>\n",
       "      <td>Clear</td>\n",
       "      <td>7</td>\n",
       "      <td>Light_Load</td>\n",
       "      <td>17</td>\n",
       "    </tr>\n",
       "    <tr>\n",
       "      <th>7005</th>\n",
       "      <td>3.38</td>\n",
       "      <td>0.00</td>\n",
       "      <td>13.43</td>\n",
       "      <td>0.0</td>\n",
       "      <td>100.00</td>\n",
       "      <td>24.41</td>\n",
       "      <td>73800</td>\n",
       "      <td>Weekday</td>\n",
       "      <td>2018</td>\n",
       "      <td>12</td>\n",
       "      <td>...</td>\n",
       "      <td>1035.8</td>\n",
       "      <td>19.6</td>\n",
       "      <td>10.5</td>\n",
       "      <td>143.6</td>\n",
       "      <td>12.5</td>\n",
       "      <td>6</td>\n",
       "      <td>Clear</td>\n",
       "      <td>7</td>\n",
       "      <td>Light_Load</td>\n",
       "      <td>17</td>\n",
       "    </tr>\n",
       "    <tr>\n",
       "      <th>7006</th>\n",
       "      <td>3.42</td>\n",
       "      <td>0.00</td>\n",
       "      <td>13.36</td>\n",
       "      <td>0.0</td>\n",
       "      <td>100.00</td>\n",
       "      <td>24.80</td>\n",
       "      <td>78300</td>\n",
       "      <td>Weekday</td>\n",
       "      <td>2018</td>\n",
       "      <td>12</td>\n",
       "      <td>...</td>\n",
       "      <td>1035.8</td>\n",
       "      <td>19.6</td>\n",
       "      <td>10.5</td>\n",
       "      <td>143.6</td>\n",
       "      <td>12.5</td>\n",
       "      <td>6</td>\n",
       "      <td>Clear</td>\n",
       "      <td>7</td>\n",
       "      <td>Light_Load</td>\n",
       "      <td>17</td>\n",
       "    </tr>\n",
       "    <tr>\n",
       "      <th>7007</th>\n",
       "      <td>3.85</td>\n",
       "      <td>4.86</td>\n",
       "      <td>0.00</td>\n",
       "      <td>0.0</td>\n",
       "      <td>62.10</td>\n",
       "      <td>100.00</td>\n",
       "      <td>82800</td>\n",
       "      <td>Weekday</td>\n",
       "      <td>2018</td>\n",
       "      <td>12</td>\n",
       "      <td>...</td>\n",
       "      <td>1035.8</td>\n",
       "      <td>19.6</td>\n",
       "      <td>10.5</td>\n",
       "      <td>143.6</td>\n",
       "      <td>12.5</td>\n",
       "      <td>6</td>\n",
       "      <td>Clear</td>\n",
       "      <td>7</td>\n",
       "      <td>Light_Load</td>\n",
       "      <td>17</td>\n",
       "    </tr>\n",
       "  </tbody>\n",
       "</table>\n",
       "<p>7008 rows × 41 columns</p>\n",
       "</div>"
      ],
      "text/plain": [
       "      Usage  LaggingCurrentReactivePower  LeadingCurrentReactivePower  CO2  \\\n",
       "0      3.17                         2.95                         0.00  0.0   \n",
       "1      3.28                         3.56                         0.00  0.0   \n",
       "2      3.46                         4.03                         0.00  0.0   \n",
       "3      3.89                         5.00                         0.00  0.0   \n",
       "4      3.56                         4.07                         0.00  0.0   \n",
       "...     ...                          ...                          ...  ...   \n",
       "7003   3.42                         0.00                         9.79  0.0   \n",
       "7004   3.96                         0.00                        18.29  0.0   \n",
       "7005   3.38                         0.00                        13.43  0.0   \n",
       "7006   3.42                         0.00                        13.36  0.0   \n",
       "7007   3.85                         4.86                         0.00  0.0   \n",
       "\n",
       "      LaggingCurrentPowerFactor  LeadingCurrentPowerFactor    NSM WeekStatus  \\\n",
       "0                         73.21                     100.00    900    Weekday   \n",
       "1                         67.76                     100.00   5400    Weekday   \n",
       "2                         65.14                     100.00   9900    Weekday   \n",
       "3                         61.40                     100.00  14400    Weekday   \n",
       "4                         65.84                     100.00  18900    Weekday   \n",
       "...                         ...                        ...    ...        ...   \n",
       "7003                     100.00                      32.98  64800    Weekday   \n",
       "7004                     100.00                      21.16  69300    Weekday   \n",
       "7005                     100.00                      24.41  73800    Weekday   \n",
       "7006                     100.00                      24.80  78300    Weekday   \n",
       "7007                      62.10                     100.00  82800    Weekday   \n",
       "\n",
       "      Year  Month  ...  SeaLevelPressure  CloudCover  Visibility  \\\n",
       "0     2018      1  ...            1026.9         3.3         9.0   \n",
       "1     2018      1  ...            1026.9         3.3         9.0   \n",
       "2     2018      1  ...            1026.9         3.3         9.0   \n",
       "3     2018      1  ...            1026.9         3.3         9.0   \n",
       "4     2018      1  ...            1026.9         3.3         9.0   \n",
       "...    ...    ...  ...               ...         ...         ...   \n",
       "7003  2018     12  ...            1035.8        19.6        10.5   \n",
       "7004  2018     12  ...            1035.8        19.6        10.5   \n",
       "7005  2018     12  ...            1035.8        19.6        10.5   \n",
       "7006  2018     12  ...            1035.8        19.6        10.5   \n",
       "7007  2018     12  ...            1035.8        19.6        10.5   \n",
       "\n",
       "      SolarRadiation SolarEnergy  UvIndex  Conditions  SunriseHour  \\\n",
       "0              139.9        12.0        6       Clear            7   \n",
       "1              139.9        12.0        6       Clear            7   \n",
       "2              139.9        12.0        6       Clear            7   \n",
       "3              139.9        12.0        6       Clear            7   \n",
       "4              139.9        12.0        6       Clear            7   \n",
       "...              ...         ...      ...         ...          ...   \n",
       "7003           143.6        12.5        6       Clear            7   \n",
       "7004           143.6        12.5        6       Clear            7   \n",
       "7005           143.6        12.5        6       Clear            7   \n",
       "7006           143.6        12.5        6       Clear            7   \n",
       "7007           143.6        12.5        6       Clear            7   \n",
       "\n",
       "        LoadType  SunsetHour  \n",
       "0     Light_Load          17  \n",
       "1     Light_Load          17  \n",
       "2     Light_Load          17  \n",
       "3     Light_Load          17  \n",
       "4     Light_Load          17  \n",
       "...          ...         ...  \n",
       "7003  Light_Load          17  \n",
       "7004  Light_Load          17  \n",
       "7005  Light_Load          17  \n",
       "7006  Light_Load          17  \n",
       "7007  Light_Load          17  \n",
       "\n",
       "[7008 rows x 41 columns]"
      ]
     },
     "metadata": {},
     "output_type": "display_data"
    }
   ],
   "source": [
    "comb_raw = pd.read_csv(\"SeqCombinedData.csv\")\n",
    "display(comb_raw)"
   ]
  },
  {
   "cell_type": "code",
   "execution_count": 20,
   "id": "e1bb7080",
   "metadata": {},
   "outputs": [],
   "source": [
    "comb_raw_filt= comb_raw[[\"Usage\", \"LaggingCurrentReactivePower\", \"LeadingCurrentReactivePower\",\n",
    "                          \"CO2\", \"LaggingCurrentPowerFactor\", \"LeadingCurrentPowerFactor\", \"NSM\",\n",
    "                          \"WeekStatus\", \"Hours\", \"Minutes\", \"IsHoliday\", \"Season\", \"Temp\", \"Dew\",\n",
    "                          \"Humidity\", \"Precip\", \"PrecipProb\", \"PrecipCover\", \"PrecipType\", \"SnowDepth\", \"WindGust\",\n",
    "                          \"WindSpeed\", \"WindDir\", \"SeaLevelPressure\", \"CloudCover\", \"Visibility\", \"SolarRadiation\",\n",
    "                          \"SolarEnergy\", \"UvIndex\", \"Conditions\", \"SunriseHour\", \"LoadType\", \"SunsetHour\"]]\n",
    "load_values = comb_raw.pop(\"LoadType\")"
   ]
  },
  {
   "cell_type": "code",
   "execution_count": 21,
   "id": "dda0d716",
   "metadata": {},
   "outputs": [],
   "source": [
    "steel_cols_to_encode = ['IsHoliday','PrecipType','Season','Conditions','WeekStatus']\n",
    "steel_cols_to_normalize = ['Usage', 'CO2', 'LaggingCurrentPowerFactor', 'PrecipCover', 'SnowDepth',\n",
    "                          'NSM', 'Hours', 'Minutes', 'PrecipProb', 'SunriseHour']"
   ]
  },
  {
   "cell_type": "code",
   "execution_count": 22,
   "id": "df3b7de4",
   "metadata": {},
   "outputs": [],
   "source": [
    "comb_raw_enc = pd.get_dummies(comb_raw_filt, columns=steel_cols_to_encode)"
   ]
  },
  {
   "cell_type": "code",
   "execution_count": 23,
   "id": "e1d6238f",
   "metadata": {},
   "outputs": [],
   "source": [
    "steel_scaler = StandardScaler()\n",
    "comb_raw_enc[steel_cols_to_normalize] = steel_scaler.fit_transform(comb_raw_enc[steel_cols_to_normalize])"
   ]
  },
  {
   "cell_type": "code",
   "execution_count": 24,
   "id": "7c65e54f",
   "metadata": {},
   "outputs": [
    {
     "data": {
      "text/html": [
       "<div>\n",
       "<style scoped>\n",
       "    .dataframe tbody tr th:only-of-type {\n",
       "        vertical-align: middle;\n",
       "    }\n",
       "\n",
       "    .dataframe tbody tr th {\n",
       "        vertical-align: top;\n",
       "    }\n",
       "\n",
       "    .dataframe thead th {\n",
       "        text-align: right;\n",
       "    }\n",
       "</style>\n",
       "<table border=\"1\" class=\"dataframe\">\n",
       "  <thead>\n",
       "    <tr style=\"text-align: right;\">\n",
       "      <th></th>\n",
       "      <th>Usage</th>\n",
       "      <th>CO2</th>\n",
       "      <th>LaggingCurrentPowerFactor</th>\n",
       "      <th>NSM</th>\n",
       "      <th>Hours</th>\n",
       "      <th>Dew</th>\n",
       "      <th>WindSpeed</th>\n",
       "      <th>SunriseHour</th>\n",
       "      <th>IsHoliday_1</th>\n",
       "      <th>PrecipType_noprecip</th>\n",
       "      <th>PrecipType_rain</th>\n",
       "      <th>Season_Summer</th>\n",
       "      <th>Conditions_Partially cloudy</th>\n",
       "      <th>Conditions_Rain</th>\n",
       "      <th>Conditions_Rain, Partially cloudy</th>\n",
       "      <th>Conditions_Snow, Partially cloudy</th>\n",
       "      <th>Conditions_Snow, Rain, Overcast</th>\n",
       "      <th>Conditions_Snow, Rain, Partially cloudy</th>\n",
       "      <th>WeekStatus_Weekday</th>\n",
       "      <th>WeekStatus_Weekend</th>\n",
       "    </tr>\n",
       "  </thead>\n",
       "  <tbody>\n",
       "    <tr>\n",
       "      <th>0</th>\n",
       "      <td>-0.722530</td>\n",
       "      <td>-0.711735</td>\n",
       "      <td>-0.388131</td>\n",
       "      <td>-1.678015</td>\n",
       "      <td>-1.661325</td>\n",
       "      <td>24.9</td>\n",
       "      <td>14.8</td>\n",
       "      <td>1.318323</td>\n",
       "      <td>1</td>\n",
       "      <td>1</td>\n",
       "      <td>0</td>\n",
       "      <td>0</td>\n",
       "      <td>0</td>\n",
       "      <td>0</td>\n",
       "      <td>0</td>\n",
       "      <td>0</td>\n",
       "      <td>0</td>\n",
       "      <td>0</td>\n",
       "      <td>1</td>\n",
       "      <td>0</td>\n",
       "    </tr>\n",
       "    <tr>\n",
       "      <th>1</th>\n",
       "      <td>-0.719255</td>\n",
       "      <td>-0.711735</td>\n",
       "      <td>-0.675669</td>\n",
       "      <td>-1.497584</td>\n",
       "      <td>-1.516862</td>\n",
       "      <td>24.9</td>\n",
       "      <td>14.8</td>\n",
       "      <td>1.318323</td>\n",
       "      <td>1</td>\n",
       "      <td>1</td>\n",
       "      <td>0</td>\n",
       "      <td>0</td>\n",
       "      <td>0</td>\n",
       "      <td>0</td>\n",
       "      <td>0</td>\n",
       "      <td>0</td>\n",
       "      <td>0</td>\n",
       "      <td>0</td>\n",
       "      <td>1</td>\n",
       "      <td>0</td>\n",
       "    </tr>\n",
       "    <tr>\n",
       "      <th>2</th>\n",
       "      <td>-0.713895</td>\n",
       "      <td>-0.711735</td>\n",
       "      <td>-0.813898</td>\n",
       "      <td>-1.317152</td>\n",
       "      <td>-1.372399</td>\n",
       "      <td>24.9</td>\n",
       "      <td>14.8</td>\n",
       "      <td>1.318323</td>\n",
       "      <td>1</td>\n",
       "      <td>1</td>\n",
       "      <td>0</td>\n",
       "      <td>0</td>\n",
       "      <td>0</td>\n",
       "      <td>0</td>\n",
       "      <td>0</td>\n",
       "      <td>0</td>\n",
       "      <td>0</td>\n",
       "      <td>0</td>\n",
       "      <td>1</td>\n",
       "      <td>0</td>\n",
       "    </tr>\n",
       "    <tr>\n",
       "      <th>3</th>\n",
       "      <td>-0.701091</td>\n",
       "      <td>-0.711735</td>\n",
       "      <td>-1.011218</td>\n",
       "      <td>-1.136720</td>\n",
       "      <td>-1.083473</td>\n",
       "      <td>24.9</td>\n",
       "      <td>14.8</td>\n",
       "      <td>1.318323</td>\n",
       "      <td>1</td>\n",
       "      <td>1</td>\n",
       "      <td>0</td>\n",
       "      <td>0</td>\n",
       "      <td>0</td>\n",
       "      <td>0</td>\n",
       "      <td>0</td>\n",
       "      <td>0</td>\n",
       "      <td>0</td>\n",
       "      <td>0</td>\n",
       "      <td>1</td>\n",
       "      <td>0</td>\n",
       "    </tr>\n",
       "    <tr>\n",
       "      <th>4</th>\n",
       "      <td>-0.710917</td>\n",
       "      <td>-0.711735</td>\n",
       "      <td>-0.776967</td>\n",
       "      <td>-0.956288</td>\n",
       "      <td>-0.939010</td>\n",
       "      <td>24.9</td>\n",
       "      <td>14.8</td>\n",
       "      <td>1.318323</td>\n",
       "      <td>1</td>\n",
       "      <td>1</td>\n",
       "      <td>0</td>\n",
       "      <td>0</td>\n",
       "      <td>0</td>\n",
       "      <td>0</td>\n",
       "      <td>0</td>\n",
       "      <td>0</td>\n",
       "      <td>0</td>\n",
       "      <td>0</td>\n",
       "      <td>1</td>\n",
       "      <td>0</td>\n",
       "    </tr>\n",
       "    <tr>\n",
       "      <th>...</th>\n",
       "      <td>...</td>\n",
       "      <td>...</td>\n",
       "      <td>...</td>\n",
       "      <td>...</td>\n",
       "      <td>...</td>\n",
       "      <td>...</td>\n",
       "      <td>...</td>\n",
       "      <td>...</td>\n",
       "      <td>...</td>\n",
       "      <td>...</td>\n",
       "      <td>...</td>\n",
       "      <td>...</td>\n",
       "      <td>...</td>\n",
       "      <td>...</td>\n",
       "      <td>...</td>\n",
       "      <td>...</td>\n",
       "      <td>...</td>\n",
       "      <td>...</td>\n",
       "      <td>...</td>\n",
       "      <td>...</td>\n",
       "    </tr>\n",
       "    <tr>\n",
       "      <th>7003</th>\n",
       "      <td>-0.715086</td>\n",
       "      <td>-0.711735</td>\n",
       "      <td>1.025289</td>\n",
       "      <td>0.884116</td>\n",
       "      <td>0.939010</td>\n",
       "      <td>20.5</td>\n",
       "      <td>17.2</td>\n",
       "      <td>1.318323</td>\n",
       "      <td>0</td>\n",
       "      <td>1</td>\n",
       "      <td>0</td>\n",
       "      <td>0</td>\n",
       "      <td>0</td>\n",
       "      <td>0</td>\n",
       "      <td>0</td>\n",
       "      <td>0</td>\n",
       "      <td>0</td>\n",
       "      <td>0</td>\n",
       "      <td>1</td>\n",
       "      <td>0</td>\n",
       "    </tr>\n",
       "    <tr>\n",
       "      <th>7004</th>\n",
       "      <td>-0.699006</td>\n",
       "      <td>-0.711735</td>\n",
       "      <td>1.025289</td>\n",
       "      <td>1.064547</td>\n",
       "      <td>1.083473</td>\n",
       "      <td>20.5</td>\n",
       "      <td>17.2</td>\n",
       "      <td>1.318323</td>\n",
       "      <td>0</td>\n",
       "      <td>1</td>\n",
       "      <td>0</td>\n",
       "      <td>0</td>\n",
       "      <td>0</td>\n",
       "      <td>0</td>\n",
       "      <td>0</td>\n",
       "      <td>0</td>\n",
       "      <td>0</td>\n",
       "      <td>0</td>\n",
       "      <td>1</td>\n",
       "      <td>0</td>\n",
       "    </tr>\n",
       "    <tr>\n",
       "      <th>7005</th>\n",
       "      <td>-0.716277</td>\n",
       "      <td>-0.711735</td>\n",
       "      <td>1.025289</td>\n",
       "      <td>1.244979</td>\n",
       "      <td>1.227936</td>\n",
       "      <td>20.5</td>\n",
       "      <td>17.2</td>\n",
       "      <td>1.318323</td>\n",
       "      <td>0</td>\n",
       "      <td>1</td>\n",
       "      <td>0</td>\n",
       "      <td>0</td>\n",
       "      <td>0</td>\n",
       "      <td>0</td>\n",
       "      <td>0</td>\n",
       "      <td>0</td>\n",
       "      <td>0</td>\n",
       "      <td>0</td>\n",
       "      <td>1</td>\n",
       "      <td>0</td>\n",
       "    </tr>\n",
       "    <tr>\n",
       "      <th>7006</th>\n",
       "      <td>-0.715086</td>\n",
       "      <td>-0.711735</td>\n",
       "      <td>1.025289</td>\n",
       "      <td>1.425411</td>\n",
       "      <td>1.372399</td>\n",
       "      <td>20.5</td>\n",
       "      <td>17.2</td>\n",
       "      <td>1.318323</td>\n",
       "      <td>0</td>\n",
       "      <td>1</td>\n",
       "      <td>0</td>\n",
       "      <td>0</td>\n",
       "      <td>0</td>\n",
       "      <td>0</td>\n",
       "      <td>0</td>\n",
       "      <td>0</td>\n",
       "      <td>0</td>\n",
       "      <td>0</td>\n",
       "      <td>1</td>\n",
       "      <td>0</td>\n",
       "    </tr>\n",
       "    <tr>\n",
       "      <th>7007</th>\n",
       "      <td>-0.702282</td>\n",
       "      <td>-0.711735</td>\n",
       "      <td>-0.974286</td>\n",
       "      <td>1.605843</td>\n",
       "      <td>1.661325</td>\n",
       "      <td>20.5</td>\n",
       "      <td>17.2</td>\n",
       "      <td>1.318323</td>\n",
       "      <td>0</td>\n",
       "      <td>1</td>\n",
       "      <td>0</td>\n",
       "      <td>0</td>\n",
       "      <td>0</td>\n",
       "      <td>0</td>\n",
       "      <td>0</td>\n",
       "      <td>0</td>\n",
       "      <td>0</td>\n",
       "      <td>0</td>\n",
       "      <td>1</td>\n",
       "      <td>0</td>\n",
       "    </tr>\n",
       "  </tbody>\n",
       "</table>\n",
       "<p>7008 rows × 20 columns</p>\n",
       "</div>"
      ],
      "text/plain": [
       "         Usage       CO2  LaggingCurrentPowerFactor       NSM     Hours   Dew  \\\n",
       "0    -0.722530 -0.711735                  -0.388131 -1.678015 -1.661325  24.9   \n",
       "1    -0.719255 -0.711735                  -0.675669 -1.497584 -1.516862  24.9   \n",
       "2    -0.713895 -0.711735                  -0.813898 -1.317152 -1.372399  24.9   \n",
       "3    -0.701091 -0.711735                  -1.011218 -1.136720 -1.083473  24.9   \n",
       "4    -0.710917 -0.711735                  -0.776967 -0.956288 -0.939010  24.9   \n",
       "...        ...       ...                        ...       ...       ...   ...   \n",
       "7003 -0.715086 -0.711735                   1.025289  0.884116  0.939010  20.5   \n",
       "7004 -0.699006 -0.711735                   1.025289  1.064547  1.083473  20.5   \n",
       "7005 -0.716277 -0.711735                   1.025289  1.244979  1.227936  20.5   \n",
       "7006 -0.715086 -0.711735                   1.025289  1.425411  1.372399  20.5   \n",
       "7007 -0.702282 -0.711735                  -0.974286  1.605843  1.661325  20.5   \n",
       "\n",
       "      WindSpeed  SunriseHour  IsHoliday_1  PrecipType_noprecip  \\\n",
       "0          14.8     1.318323            1                    1   \n",
       "1          14.8     1.318323            1                    1   \n",
       "2          14.8     1.318323            1                    1   \n",
       "3          14.8     1.318323            1                    1   \n",
       "4          14.8     1.318323            1                    1   \n",
       "...         ...          ...          ...                  ...   \n",
       "7003       17.2     1.318323            0                    1   \n",
       "7004       17.2     1.318323            0                    1   \n",
       "7005       17.2     1.318323            0                    1   \n",
       "7006       17.2     1.318323            0                    1   \n",
       "7007       17.2     1.318323            0                    1   \n",
       "\n",
       "      PrecipType_rain  Season_Summer  Conditions_Partially cloudy  \\\n",
       "0                   0              0                            0   \n",
       "1                   0              0                            0   \n",
       "2                   0              0                            0   \n",
       "3                   0              0                            0   \n",
       "4                   0              0                            0   \n",
       "...               ...            ...                          ...   \n",
       "7003                0              0                            0   \n",
       "7004                0              0                            0   \n",
       "7005                0              0                            0   \n",
       "7006                0              0                            0   \n",
       "7007                0              0                            0   \n",
       "\n",
       "      Conditions_Rain  Conditions_Rain, Partially cloudy  \\\n",
       "0                   0                                  0   \n",
       "1                   0                                  0   \n",
       "2                   0                                  0   \n",
       "3                   0                                  0   \n",
       "4                   0                                  0   \n",
       "...               ...                                ...   \n",
       "7003                0                                  0   \n",
       "7004                0                                  0   \n",
       "7005                0                                  0   \n",
       "7006                0                                  0   \n",
       "7007                0                                  0   \n",
       "\n",
       "      Conditions_Snow, Partially cloudy  Conditions_Snow, Rain, Overcast  \\\n",
       "0                                     0                                0   \n",
       "1                                     0                                0   \n",
       "2                                     0                                0   \n",
       "3                                     0                                0   \n",
       "4                                     0                                0   \n",
       "...                                 ...                              ...   \n",
       "7003                                  0                                0   \n",
       "7004                                  0                                0   \n",
       "7005                                  0                                0   \n",
       "7006                                  0                                0   \n",
       "7007                                  0                                0   \n",
       "\n",
       "      Conditions_Snow, Rain, Partially cloudy  WeekStatus_Weekday  \\\n",
       "0                                           0                   1   \n",
       "1                                           0                   1   \n",
       "2                                           0                   1   \n",
       "3                                           0                   1   \n",
       "4                                           0                   1   \n",
       "...                                       ...                 ...   \n",
       "7003                                        0                   1   \n",
       "7004                                        0                   1   \n",
       "7005                                        0                   1   \n",
       "7006                                        0                   1   \n",
       "7007                                        0                   1   \n",
       "\n",
       "      WeekStatus_Weekend  \n",
       "0                      0  \n",
       "1                      0  \n",
       "2                      0  \n",
       "3                      0  \n",
       "4                      0  \n",
       "...                  ...  \n",
       "7003                   0  \n",
       "7004                   0  \n",
       "7005                   0  \n",
       "7006                   0  \n",
       "7007                   0  \n",
       "\n",
       "[7008 rows x 20 columns]"
      ]
     },
     "metadata": {},
     "output_type": "display_data"
    }
   ],
   "source": [
    "feature_selection_columns = [\n",
    "    'Usage', 'CO2', 'LaggingCurrentPowerFactor', 'NSM', 'Hours', 'Dew',\n",
    "       'WindSpeed', 'SunriseHour', 'IsHoliday_1', 'PrecipType_noprecip',\n",
    "       'PrecipType_rain', 'Season_Summer', 'Conditions_Partially cloudy',\n",
    "       'Conditions_Rain', 'Conditions_Rain, Partially cloudy',\n",
    "       'Conditions_Snow, Partially cloudy',\n",
    "       'Conditions_Snow, Rain, Overcast',\n",
    "       'Conditions_Snow, Rain, Partially cloudy', 'WeekStatus_Weekday',\n",
    "       'WeekStatus_Weekend'\n",
    "        ]\n",
    "comb_raw_filt = comb_raw_enc[feature_selection_columns]\n",
    "display(comb_raw_filt)"
   ]
  },
  {
   "cell_type": "code",
   "execution_count": 25,
   "id": "ccc4e622",
   "metadata": {},
   "outputs": [],
   "source": [
    "transformed_comb = []\n",
    "for num in range(4,len(comb_raw_filt)):\n",
    "    ele =comb_raw_filt[num-4:num+1]\n",
    "    transformed_comb.append(ele)\n",
    "transformed_comb = np.array(transformed_comb)"
   ]
  },
  {
   "cell_type": "code",
   "execution_count": 26,
   "id": "ea8dd836",
   "metadata": {},
   "outputs": [
    {
     "name": "stdout",
     "output_type": "stream",
     "text": [
      "7004\n"
     ]
    }
   ],
   "source": [
    "X_arr = transformed_comb\n",
    "Y_arr = load_values[4:]\n",
    "print(len(Y_arr))"
   ]
  },
  {
   "cell_type": "code",
   "execution_count": 27,
   "id": "ae6719ce",
   "metadata": {},
   "outputs": [],
   "source": [
    "X_train, X_test, y_train, y_test = train_test_split(X_arr, Y_arr, test_size=0.20, random_state=42)\n",
    "y_train_le = pd.get_dummies(y_train)\n",
    "y_test_le = pd.get_dummies(y_test)"
   ]
  },
  {
   "cell_type": "markdown",
   "id": "20ac8317",
   "metadata": {},
   "source": [
    "### Trying out different model structures"
   ]
  },
  {
   "cell_type": "code",
   "execution_count": 28,
   "id": "c285a0e8",
   "metadata": {},
   "outputs": [],
   "source": [
    "model_1 = tf.keras.models.Sequential()\n",
    "model_1.add(LSTM(20, return_sequences=True))\n",
    "model_1.add(LSTM(20, return_sequences=False))\n",
    "model_1.add(Dense(3, activation='softmax'))\n",
    "\n",
    "model_1.compile(loss='categorical_crossentropy',\n",
    "              optimizer=\"adam\",\n",
    "              metrics=['accuracy'])"
   ]
  },
  {
   "cell_type": "code",
   "execution_count": 29,
   "id": "0ebc4cc0",
   "metadata": {},
   "outputs": [
    {
     "name": "stdout",
     "output_type": "stream",
     "text": [
      "Epoch 1/20\n",
      "176/176 [==============================] - 5s 9ms/step - loss: 0.9350 - accuracy: 0.5379\n",
      "Epoch 2/20\n",
      "176/176 [==============================] - 1s 7ms/step - loss: 0.5465 - accuracy: 0.7510\n",
      "Epoch 3/20\n",
      "176/176 [==============================] - 1s 8ms/step - loss: 0.4478 - accuracy: 0.8072\n",
      "Epoch 4/20\n",
      "176/176 [==============================] - 2s 9ms/step - loss: 0.3862 - accuracy: 0.8435\n",
      "Epoch 5/20\n",
      "176/176 [==============================] - 1s 8ms/step - loss: 0.3450 - accuracy: 0.8640\n",
      "Epoch 6/20\n",
      "176/176 [==============================] - 1s 8ms/step - loss: 0.3121 - accuracy: 0.8685\n",
      "Epoch 7/20\n",
      "176/176 [==============================] - 1s 8ms/step - loss: 0.2826 - accuracy: 0.8827\n",
      "Epoch 8/20\n",
      "176/176 [==============================] - 1s 7ms/step - loss: 0.2577 - accuracy: 0.8899\n",
      "Epoch 9/20\n",
      "176/176 [==============================] - 1s 7ms/step - loss: 0.2392 - accuracy: 0.8984\n",
      "Epoch 10/20\n",
      "176/176 [==============================] - 1s 6ms/step - loss: 0.2229 - accuracy: 0.9086\n",
      "Epoch 11/20\n",
      "176/176 [==============================] - 1s 6ms/step - loss: 0.2076 - accuracy: 0.9177\n",
      "Epoch 12/20\n",
      "176/176 [==============================] - 1s 7ms/step - loss: 0.2020 - accuracy: 0.9181\n",
      "Epoch 13/20\n",
      "176/176 [==============================] - 1s 7ms/step - loss: 0.1818 - accuracy: 0.9279\n",
      "Epoch 14/20\n",
      "176/176 [==============================] - 1s 7ms/step - loss: 0.1817 - accuracy: 0.9293\n",
      "Epoch 15/20\n",
      "176/176 [==============================] - 1s 8ms/step - loss: 0.1768 - accuracy: 0.9283\n",
      "Epoch 16/20\n",
      "176/176 [==============================] - 1s 7ms/step - loss: 0.1640 - accuracy: 0.9372\n",
      "Epoch 17/20\n",
      "176/176 [==============================] - 1s 7ms/step - loss: 0.1610 - accuracy: 0.9347\n",
      "Epoch 18/20\n",
      "176/176 [==============================] - 1s 7ms/step - loss: 0.1526 - accuracy: 0.9407\n",
      "Epoch 19/20\n",
      "176/176 [==============================] - 1s 7ms/step - loss: 0.1471 - accuracy: 0.9429\n",
      "Epoch 20/20\n",
      "176/176 [==============================] - 1s 7ms/step - loss: 0.1398 - accuracy: 0.9468\n"
     ]
    },
    {
     "data": {
      "text/plain": [
       "<keras.callbacks.History at 0x19c6bf19660>"
      ]
     },
     "execution_count": 29,
     "metadata": {},
     "output_type": "execute_result"
    }
   ],
   "source": [
    "model_1.fit(x=X_train, y=y_train_le, epochs=20)"
   ]
  },
  {
   "cell_type": "code",
   "execution_count": 30,
   "id": "17409057",
   "metadata": {},
   "outputs": [
    {
     "name": "stdout",
     "output_type": "stream",
     "text": [
      "Model: \"sequential_2\"\n",
      "_________________________________________________________________\n",
      " Layer (type)                Output Shape              Param #   \n",
      "=================================================================\n",
      " lstm_3 (LSTM)               (None, 5, 20)             3280      \n",
      "                                                                 \n",
      " lstm_4 (LSTM)               (None, 20)                3280      \n",
      "                                                                 \n",
      " dense_2 (Dense)             (None, 3)                 63        \n",
      "                                                                 \n",
      "=================================================================\n",
      "Total params: 6,623\n",
      "Trainable params: 6,623\n",
      "Non-trainable params: 0\n",
      "_________________________________________________________________\n"
     ]
    }
   ],
   "source": [
    "model_1.summary()"
   ]
  },
  {
   "cell_type": "code",
   "execution_count": 31,
   "id": "0a868b7d",
   "metadata": {},
   "outputs": [],
   "source": [
    "model_2 = tf.keras.models.Sequential()\n",
    "model_2.add(LSTM(20, return_sequences=False))\n",
    "model_2.add(Dense(3, activation='softmax'))\n",
    "\n",
    "model_2.compile(loss='categorical_crossentropy',\n",
    "              optimizer=\"adam\",\n",
    "              metrics=['accuracy'])"
   ]
  },
  {
   "cell_type": "code",
   "execution_count": 32,
   "id": "69c37782",
   "metadata": {},
   "outputs": [
    {
     "name": "stdout",
     "output_type": "stream",
     "text": [
      "Epoch 1/20\n",
      "176/176 [==============================] - 2s 4ms/step - loss: 0.7950 - accuracy: 0.6373\n",
      "Epoch 2/20\n",
      "176/176 [==============================] - 1s 4ms/step - loss: 0.5383 - accuracy: 0.7551\n",
      "Epoch 3/20\n",
      "176/176 [==============================] - 1s 4ms/step - loss: 0.4581 - accuracy: 0.8085\n",
      "Epoch 4/20\n",
      "176/176 [==============================] - 1s 4ms/step - loss: 0.4282 - accuracy: 0.8151\n",
      "Epoch 5/20\n",
      "176/176 [==============================] - 1s 5ms/step - loss: 0.4004 - accuracy: 0.8304\n",
      "Epoch 6/20\n",
      "176/176 [==============================] - 1s 5ms/step - loss: 0.3788 - accuracy: 0.8362\n",
      "Epoch 7/20\n",
      "176/176 [==============================] - 1s 4ms/step - loss: 0.3597 - accuracy: 0.8412\n",
      "Epoch 8/20\n",
      "176/176 [==============================] - 1s 4ms/step - loss: 0.3447 - accuracy: 0.8558\n",
      "Epoch 9/20\n",
      "176/176 [==============================] - 1s 4ms/step - loss: 0.3201 - accuracy: 0.8620\n",
      "Epoch 10/20\n",
      "176/176 [==============================] - 1s 5ms/step - loss: 0.3031 - accuracy: 0.8735\n",
      "Epoch 11/20\n",
      "176/176 [==============================] - 1s 4ms/step - loss: 0.2874 - accuracy: 0.8799\n",
      "Epoch 12/20\n",
      "176/176 [==============================] - 1s 5ms/step - loss: 0.2727 - accuracy: 0.8895\n",
      "Epoch 13/20\n",
      "176/176 [==============================] - 1s 4ms/step - loss: 0.2591 - accuracy: 0.8924\n",
      "Epoch 14/20\n",
      "176/176 [==============================] - 1s 4ms/step - loss: 0.2483 - accuracy: 0.8988\n",
      "Epoch 15/20\n",
      "176/176 [==============================] - 1s 5ms/step - loss: 0.2343 - accuracy: 0.9056\n",
      "Epoch 16/20\n",
      "176/176 [==============================] - 1s 4ms/step - loss: 0.2250 - accuracy: 0.9095\n",
      "Epoch 17/20\n",
      "176/176 [==============================] - 1s 4ms/step - loss: 0.2246 - accuracy: 0.9056\n",
      "Epoch 18/20\n",
      "176/176 [==============================] - 1s 5ms/step - loss: 0.2089 - accuracy: 0.9163\n",
      "Epoch 19/20\n",
      "176/176 [==============================] - 1s 4ms/step - loss: 0.2048 - accuracy: 0.9136\n",
      "Epoch 20/20\n",
      "176/176 [==============================] - 1s 4ms/step - loss: 0.2034 - accuracy: 0.9179\n"
     ]
    },
    {
     "data": {
      "text/plain": [
       "<keras.callbacks.History at 0x19c6b0d2860>"
      ]
     },
     "execution_count": 32,
     "metadata": {},
     "output_type": "execute_result"
    }
   ],
   "source": [
    "model_2.fit(x=X_train, y=y_train_le, epochs=20)"
   ]
  },
  {
   "cell_type": "code",
   "execution_count": 33,
   "id": "70dbf57c",
   "metadata": {},
   "outputs": [
    {
     "name": "stdout",
     "output_type": "stream",
     "text": [
      "Model: \"sequential_3\"\n",
      "_________________________________________________________________\n",
      " Layer (type)                Output Shape              Param #   \n",
      "=================================================================\n",
      " lstm_5 (LSTM)               (None, 20)                3280      \n",
      "                                                                 \n",
      " dense_3 (Dense)             (None, 3)                 63        \n",
      "                                                                 \n",
      "=================================================================\n",
      "Total params: 3,343\n",
      "Trainable params: 3,343\n",
      "Non-trainable params: 0\n",
      "_________________________________________________________________\n"
     ]
    }
   ],
   "source": [
    "model_2.summary()"
   ]
  },
  {
   "cell_type": "code",
   "execution_count": 34,
   "id": "b1b768b9",
   "metadata": {},
   "outputs": [],
   "source": [
    "model_3 = tf.keras.models.Sequential()\n",
    "model_3.add(LSTM(20, return_sequences=True))\n",
    "model_3.add(LSTM(20, return_sequences=True))\n",
    "model_3.add(LSTM(20, return_sequences=False))\n",
    "model_3.add(Dense(3, activation='softmax'))\n",
    "\n",
    "model_3.compile(loss='categorical_crossentropy',\n",
    "              optimizer=\"adam\",\n",
    "              metrics=['accuracy'])"
   ]
  },
  {
   "cell_type": "code",
   "execution_count": 35,
   "id": "1becdb0b",
   "metadata": {},
   "outputs": [
    {
     "name": "stdout",
     "output_type": "stream",
     "text": [
      "Epoch 1/20\n",
      "176/176 [==============================] - 6s 12ms/step - loss: 0.8969 - accuracy: 0.5750\n",
      "Epoch 2/20\n",
      "176/176 [==============================] - 2s 12ms/step - loss: 0.5258 - accuracy: 0.7435\n",
      "Epoch 3/20\n",
      "176/176 [==============================] - 2s 10ms/step - loss: 0.4537 - accuracy: 0.7835\n",
      "Epoch 4/20\n",
      "176/176 [==============================] - 2s 11ms/step - loss: 0.4117 - accuracy: 0.8197\n",
      "Epoch 5/20\n",
      "176/176 [==============================] - 2s 11ms/step - loss: 0.3612 - accuracy: 0.8522\n",
      "Epoch 6/20\n",
      "176/176 [==============================] - 2s 10ms/step - loss: 0.3239 - accuracy: 0.8661\n",
      "Epoch 7/20\n",
      "176/176 [==============================] - 2s 11ms/step - loss: 0.2873 - accuracy: 0.8788\n",
      "Epoch 8/20\n",
      "176/176 [==============================] - 2s 11ms/step - loss: 0.2733 - accuracy: 0.8792\n",
      "Epoch 9/20\n",
      "176/176 [==============================] - 2s 10ms/step - loss: 0.2538 - accuracy: 0.8852\n",
      "Epoch 10/20\n",
      "176/176 [==============================] - 2s 10ms/step - loss: 0.2378 - accuracy: 0.8940\n",
      "Epoch 11/20\n",
      "176/176 [==============================] - 2s 11ms/step - loss: 0.2466 - accuracy: 0.8883\n",
      "Epoch 12/20\n",
      "176/176 [==============================] - 2s 10ms/step - loss: 0.2198 - accuracy: 0.9045\n",
      "Epoch 13/20\n",
      "176/176 [==============================] - 2s 10ms/step - loss: 0.2152 - accuracy: 0.9058\n",
      "Epoch 14/20\n",
      "176/176 [==============================] - 2s 11ms/step - loss: 0.2116 - accuracy: 0.9059\n",
      "Epoch 15/20\n",
      "176/176 [==============================] - 2s 11ms/step - loss: 0.2066 - accuracy: 0.9108\n",
      "Epoch 16/20\n",
      "176/176 [==============================] - 2s 9ms/step - loss: 0.2022 - accuracy: 0.9102\n",
      "Epoch 17/20\n",
      "176/176 [==============================] - 2s 11ms/step - loss: 0.1987 - accuracy: 0.9145\n",
      "Epoch 18/20\n",
      "176/176 [==============================] - 2s 10ms/step - loss: 0.1938 - accuracy: 0.9158\n",
      "Epoch 19/20\n",
      "176/176 [==============================] - 2s 10ms/step - loss: 0.1900 - accuracy: 0.9199\n",
      "Epoch 20/20\n",
      "176/176 [==============================] - 2s 11ms/step - loss: 0.1818 - accuracy: 0.9211\n"
     ]
    },
    {
     "data": {
      "text/plain": [
       "<keras.callbacks.History at 0x19c6c0e8700>"
      ]
     },
     "execution_count": 35,
     "metadata": {},
     "output_type": "execute_result"
    }
   ],
   "source": [
    "model_3.fit(x=X_train, y=y_train_le, epochs=20)"
   ]
  },
  {
   "cell_type": "code",
   "execution_count": 36,
   "id": "6e4d6d70",
   "metadata": {},
   "outputs": [
    {
     "name": "stdout",
     "output_type": "stream",
     "text": [
      "Model: \"sequential_4\"\n",
      "_________________________________________________________________\n",
      " Layer (type)                Output Shape              Param #   \n",
      "=================================================================\n",
      " lstm_6 (LSTM)               (None, 5, 20)             3280      \n",
      "                                                                 \n",
      " lstm_7 (LSTM)               (None, 5, 20)             3280      \n",
      "                                                                 \n",
      " lstm_8 (LSTM)               (None, 20)                3280      \n",
      "                                                                 \n",
      " dense_4 (Dense)             (None, 3)                 63        \n",
      "                                                                 \n",
      "=================================================================\n",
      "Total params: 9,903\n",
      "Trainable params: 9,903\n",
      "Non-trainable params: 0\n",
      "_________________________________________________________________\n"
     ]
    }
   ],
   "source": [
    "model_3.summary()"
   ]
  },
  {
   "cell_type": "code",
   "execution_count": 37,
   "id": "49aa97d3",
   "metadata": {},
   "outputs": [],
   "source": [
    "model_4 = tf.keras.models.Sequential()\n",
    "\n",
    "model_4.add(LSTM(40, return_sequences=False))\n",
    "model_4.add(Dense(3, activation='softmax'))\n",
    "\n",
    "model_4.compile(loss='categorical_crossentropy',\n",
    "              optimizer=\"adam\",\n",
    "              metrics=['accuracy'])"
   ]
  },
  {
   "cell_type": "code",
   "execution_count": 38,
   "id": "7f648d07",
   "metadata": {},
   "outputs": [
    {
     "name": "stdout",
     "output_type": "stream",
     "text": [
      "Epoch 1/20\n",
      "176/176 [==============================] - 2s 5ms/step - loss: 0.8119 - accuracy: 0.5916\n",
      "Epoch 2/20\n",
      "176/176 [==============================] - 1s 5ms/step - loss: 0.5047 - accuracy: 0.7564\n",
      "Epoch 3/20\n",
      "176/176 [==============================] - 1s 5ms/step - loss: 0.4478 - accuracy: 0.7931\n",
      "Epoch 4/20\n",
      "176/176 [==============================] - 1s 5ms/step - loss: 0.4129 - accuracy: 0.8133\n",
      "Epoch 5/20\n",
      "176/176 [==============================] - 1s 4ms/step - loss: 0.3903 - accuracy: 0.8276\n",
      "Epoch 6/20\n",
      "176/176 [==============================] - 1s 4ms/step - loss: 0.3646 - accuracy: 0.8497\n",
      "Epoch 7/20\n",
      "176/176 [==============================] - 1s 5ms/step - loss: 0.3342 - accuracy: 0.8631\n",
      "Epoch 8/20\n",
      "176/176 [==============================] - 1s 4ms/step - loss: 0.3150 - accuracy: 0.8685\n",
      "Epoch 9/20\n",
      "176/176 [==============================] - 1s 3ms/step - loss: 0.2913 - accuracy: 0.8783\n",
      "Epoch 10/20\n",
      "176/176 [==============================] - 1s 4ms/step - loss: 0.2688 - accuracy: 0.8888\n",
      "Epoch 11/20\n",
      "176/176 [==============================] - 1s 4ms/step - loss: 0.2551 - accuracy: 0.8965\n",
      "Epoch 12/20\n",
      "176/176 [==============================] - 1s 4ms/step - loss: 0.2346 - accuracy: 0.9011\n",
      "Epoch 13/20\n",
      "176/176 [==============================] - 1s 4ms/step - loss: 0.2184 - accuracy: 0.9111\n",
      "Epoch 14/20\n",
      "176/176 [==============================] - 1s 5ms/step - loss: 0.2047 - accuracy: 0.9224\n",
      "Epoch 15/20\n",
      "176/176 [==============================] - 1s 4ms/step - loss: 0.1897 - accuracy: 0.9274\n",
      "Epoch 16/20\n",
      "176/176 [==============================] - 1s 5ms/step - loss: 0.1901 - accuracy: 0.9243\n",
      "Epoch 17/20\n",
      "176/176 [==============================] - 1s 5ms/step - loss: 0.1699 - accuracy: 0.9347\n",
      "Epoch 18/20\n",
      "176/176 [==============================] - 1s 5ms/step - loss: 0.1583 - accuracy: 0.9418\n",
      "Epoch 19/20\n",
      "176/176 [==============================] - 1s 5ms/step - loss: 0.1628 - accuracy: 0.9357\n",
      "Epoch 20/20\n",
      "176/176 [==============================] - 0s 3ms/step - loss: 0.1454 - accuracy: 0.9475\n"
     ]
    },
    {
     "data": {
      "text/plain": [
       "<keras.callbacks.History at 0x19c76558c40>"
      ]
     },
     "execution_count": 38,
     "metadata": {},
     "output_type": "execute_result"
    }
   ],
   "source": [
    "model_4.fit(x=X_train, y=y_train_le, epochs=20)"
   ]
  },
  {
   "cell_type": "code",
   "execution_count": 39,
   "id": "381935ee",
   "metadata": {},
   "outputs": [
    {
     "name": "stdout",
     "output_type": "stream",
     "text": [
      "Model: \"sequential_5\"\n",
      "_________________________________________________________________\n",
      " Layer (type)                Output Shape              Param #   \n",
      "=================================================================\n",
      " lstm_9 (LSTM)               (None, 40)                9760      \n",
      "                                                                 \n",
      " dense_5 (Dense)             (None, 3)                 123       \n",
      "                                                                 \n",
      "=================================================================\n",
      "Total params: 9,883\n",
      "Trainable params: 9,883\n",
      "Non-trainable params: 0\n",
      "_________________________________________________________________\n"
     ]
    }
   ],
   "source": [
    "model_4.summary()"
   ]
  },
  {
   "cell_type": "code",
   "execution_count": 40,
   "id": "5917477a",
   "metadata": {},
   "outputs": [],
   "source": [
    "model_5 = tf.keras.models.Sequential()\n",
    "\n",
    "model_5.add(LSTM(40, return_sequences=True))\n",
    "model_5.add(LSTM(40, return_sequences=False))\n",
    "model_5.add(Dense(3, activation='softmax'))\n",
    "\n",
    "model_5.compile(loss='categorical_crossentropy',\n",
    "              optimizer=\"adam\",\n",
    "              metrics=['accuracy'])"
   ]
  },
  {
   "cell_type": "code",
   "execution_count": 41,
   "id": "9a633067",
   "metadata": {},
   "outputs": [
    {
     "name": "stdout",
     "output_type": "stream",
     "text": [
      "Epoch 1/20\n",
      "176/176 [==============================] - 4s 6ms/step - loss: 0.7486 - accuracy: 0.6439\n",
      "Epoch 2/20\n",
      "176/176 [==============================] - 1s 6ms/step - loss: 0.4456 - accuracy: 0.7980\n",
      "Epoch 3/20\n",
      "176/176 [==============================] - 2s 9ms/step - loss: 0.3652 - accuracy: 0.8447\n",
      "Epoch 4/20\n",
      "176/176 [==============================] - 1s 7ms/step - loss: 0.3122 - accuracy: 0.8651\n",
      "Epoch 5/20\n",
      "176/176 [==============================] - 1s 8ms/step - loss: 0.2746 - accuracy: 0.8808\n",
      "Epoch 6/20\n",
      "176/176 [==============================] - 2s 9ms/step - loss: 0.2538 - accuracy: 0.8860\n",
      "Epoch 7/20\n",
      "176/176 [==============================] - 1s 6ms/step - loss: 0.2344 - accuracy: 0.8970\n",
      "Epoch 8/20\n",
      "176/176 [==============================] - 1s 8ms/step - loss: 0.2216 - accuracy: 0.9009\n",
      "Epoch 9/20\n",
      "176/176 [==============================] - 1s 7ms/step - loss: 0.2066 - accuracy: 0.9090\n",
      "Epoch 10/20\n",
      "176/176 [==============================] - 1s 7ms/step - loss: 0.1900 - accuracy: 0.9225\n",
      "Epoch 11/20\n",
      "176/176 [==============================] - 2s 9ms/step - loss: 0.1774 - accuracy: 0.9279\n",
      "Epoch 12/20\n",
      "176/176 [==============================] - 2s 9ms/step - loss: 0.1656 - accuracy: 0.9370\n",
      "Epoch 13/20\n",
      "176/176 [==============================] - 1s 8ms/step - loss: 0.1620 - accuracy: 0.9345\n",
      "Epoch 14/20\n",
      "176/176 [==============================] - 1s 8ms/step - loss: 0.1562 - accuracy: 0.9382\n",
      "Epoch 15/20\n",
      "176/176 [==============================] - 1s 8ms/step - loss: 0.1424 - accuracy: 0.9436\n",
      "Epoch 16/20\n",
      "176/176 [==============================] - 1s 8ms/step - loss: 0.1358 - accuracy: 0.9472\n",
      "Epoch 17/20\n",
      "176/176 [==============================] - 2s 9ms/step - loss: 0.1367 - accuracy: 0.9461\n",
      "Epoch 18/20\n",
      "176/176 [==============================] - 1s 8ms/step - loss: 0.1212 - accuracy: 0.9538\n",
      "Epoch 19/20\n",
      "176/176 [==============================] - 2s 9ms/step - loss: 0.1240 - accuracy: 0.9518\n",
      "Epoch 20/20\n",
      "176/176 [==============================] - 2s 9ms/step - loss: 0.1178 - accuracy: 0.9513\n"
     ]
    },
    {
     "data": {
      "text/plain": [
       "<keras.callbacks.History at 0x19c7bb59a80>"
      ]
     },
     "execution_count": 41,
     "metadata": {},
     "output_type": "execute_result"
    }
   ],
   "source": [
    "model_5.fit(x=X_train, y=y_train_le, epochs=20)"
   ]
  },
  {
   "cell_type": "code",
   "execution_count": 42,
   "id": "db8b0af1",
   "metadata": {},
   "outputs": [
    {
     "name": "stdout",
     "output_type": "stream",
     "text": [
      "Model: \"sequential_6\"\n",
      "_________________________________________________________________\n",
      " Layer (type)                Output Shape              Param #   \n",
      "=================================================================\n",
      " lstm_10 (LSTM)              (None, 5, 40)             9760      \n",
      "                                                                 \n",
      " lstm_11 (LSTM)              (None, 40)                12960     \n",
      "                                                                 \n",
      " dense_6 (Dense)             (None, 3)                 123       \n",
      "                                                                 \n",
      "=================================================================\n",
      "Total params: 22,843\n",
      "Trainable params: 22,843\n",
      "Non-trainable params: 0\n",
      "_________________________________________________________________\n"
     ]
    }
   ],
   "source": [
    "model_5.summary()"
   ]
  },
  {
   "cell_type": "code",
   "execution_count": 43,
   "id": "bd6332c5",
   "metadata": {},
   "outputs": [],
   "source": [
    "model_6 = tf.keras.models.Sequential()\n",
    "\n",
    "model_6.add(LSTM(10, return_sequences=True))\n",
    "model_6.add(LSTM(10, return_sequences=False))\n",
    "model_6.add(Dense(3, activation='softmax'))\n",
    "\n",
    "model_6.compile(loss='categorical_crossentropy',\n",
    "              optimizer=\"adam\",\n",
    "              metrics=['accuracy'])"
   ]
  },
  {
   "cell_type": "code",
   "execution_count": 44,
   "id": "7c574772",
   "metadata": {},
   "outputs": [
    {
     "name": "stdout",
     "output_type": "stream",
     "text": [
      "Epoch 1/20\n",
      "176/176 [==============================] - 5s 7ms/step - loss: 1.0273 - accuracy: 0.4601\n",
      "Epoch 2/20\n",
      "176/176 [==============================] - 1s 7ms/step - loss: 0.6545 - accuracy: 0.7025\n",
      "Epoch 3/20\n",
      "176/176 [==============================] - 1s 7ms/step - loss: 0.4966 - accuracy: 0.7669\n",
      "Epoch 4/20\n",
      "176/176 [==============================] - 1s 6ms/step - loss: 0.4499 - accuracy: 0.8028\n",
      "Epoch 5/20\n",
      "176/176 [==============================] - 1s 6ms/step - loss: 0.4089 - accuracy: 0.8335\n",
      "Epoch 6/20\n",
      "176/176 [==============================] - 1s 7ms/step - loss: 0.3766 - accuracy: 0.8495\n",
      "Epoch 7/20\n",
      "176/176 [==============================] - 1s 7ms/step - loss: 0.3471 - accuracy: 0.8658\n",
      "Epoch 8/20\n",
      "176/176 [==============================] - 1s 6ms/step - loss: 0.3291 - accuracy: 0.8688\n",
      "Epoch 9/20\n",
      "176/176 [==============================] - 1s 7ms/step - loss: 0.3063 - accuracy: 0.8763\n",
      "Epoch 10/20\n",
      "176/176 [==============================] - 1s 6ms/step - loss: 0.2878 - accuracy: 0.8820\n",
      "Epoch 11/20\n",
      "176/176 [==============================] - 1s 6ms/step - loss: 0.2691 - accuracy: 0.8940\n",
      "Epoch 12/20\n",
      "176/176 [==============================] - 1s 7ms/step - loss: 0.2545 - accuracy: 0.8988\n",
      "Epoch 13/20\n",
      "176/176 [==============================] - 1s 8ms/step - loss: 0.2473 - accuracy: 0.9029\n",
      "Epoch 14/20\n",
      "176/176 [==============================] - 1s 8ms/step - loss: 0.2401 - accuracy: 0.9042\n",
      "Epoch 15/20\n",
      "176/176 [==============================] - 1s 6ms/step - loss: 0.2313 - accuracy: 0.9088\n",
      "Epoch 16/20\n",
      "176/176 [==============================] - 1s 6ms/step - loss: 0.2275 - accuracy: 0.9061\n",
      "Epoch 17/20\n",
      "176/176 [==============================] - 1s 7ms/step - loss: 0.2081 - accuracy: 0.9202\n",
      "Epoch 18/20\n",
      "176/176 [==============================] - 1s 6ms/step - loss: 0.2032 - accuracy: 0.9200\n",
      "Epoch 19/20\n",
      "176/176 [==============================] - 1s 7ms/step - loss: 0.1986 - accuracy: 0.9227\n",
      "Epoch 20/20\n",
      "176/176 [==============================] - 1s 6ms/step - loss: 0.1994 - accuracy: 0.9209\n"
     ]
    },
    {
     "data": {
      "text/plain": [
       "<keras.callbacks.History at 0x19c48bb02b0>"
      ]
     },
     "execution_count": 44,
     "metadata": {},
     "output_type": "execute_result"
    }
   ],
   "source": [
    "model_6.fit(x=X_train, y=y_train_le, epochs=20)"
   ]
  },
  {
   "cell_type": "code",
   "execution_count": 45,
   "id": "c1785757",
   "metadata": {},
   "outputs": [
    {
     "name": "stdout",
     "output_type": "stream",
     "text": [
      "Model: \"sequential_7\"\n",
      "_________________________________________________________________\n",
      " Layer (type)                Output Shape              Param #   \n",
      "=================================================================\n",
      " lstm_12 (LSTM)              (None, 5, 10)             1240      \n",
      "                                                                 \n",
      " lstm_13 (LSTM)              (None, 10)                840       \n",
      "                                                                 \n",
      " dense_7 (Dense)             (None, 3)                 33        \n",
      "                                                                 \n",
      "=================================================================\n",
      "Total params: 2,113\n",
      "Trainable params: 2,113\n",
      "Non-trainable params: 0\n",
      "_________________________________________________________________\n"
     ]
    }
   ],
   "source": [
    "model_6.summary()"
   ]
  },
  {
   "cell_type": "code",
   "execution_count": 46,
   "id": "53932ac1",
   "metadata": {},
   "outputs": [],
   "source": [
    "model_7 = tf.keras.models.Sequential()\n",
    "\n",
    "model_7.add(LSTM(10, return_sequences=False))\n",
    "model_7.add(Dense(3, activation='softmax'))\n",
    "\n",
    "model_7.compile(loss='categorical_crossentropy',\n",
    "              optimizer=\"adam\",\n",
    "              metrics=['accuracy'])"
   ]
  },
  {
   "cell_type": "code",
   "execution_count": 47,
   "id": "a8aff321",
   "metadata": {},
   "outputs": [
    {
     "name": "stdout",
     "output_type": "stream",
     "text": [
      "Epoch 1/20\n",
      "176/176 [==============================] - 3s 5ms/step - loss: 0.9541 - accuracy: 0.5299\n",
      "Epoch 2/20\n",
      "176/176 [==============================] - 1s 4ms/step - loss: 0.6236 - accuracy: 0.7019\n",
      "Epoch 3/20\n",
      "176/176 [==============================] - 1s 4ms/step - loss: 0.5198 - accuracy: 0.7282\n",
      "Epoch 4/20\n",
      "176/176 [==============================] - 1s 4ms/step - loss: 0.4696 - accuracy: 0.7801\n",
      "Epoch 5/20\n",
      "176/176 [==============================] - 1s 4ms/step - loss: 0.4421 - accuracy: 0.7989\n",
      "Epoch 6/20\n",
      "176/176 [==============================] - 1s 4ms/step - loss: 0.4201 - accuracy: 0.8112\n",
      "Epoch 7/20\n",
      "176/176 [==============================] - 1s 5ms/step - loss: 0.4067 - accuracy: 0.8201\n",
      "Epoch 8/20\n",
      "176/176 [==============================] - 1s 3ms/step - loss: 0.3903 - accuracy: 0.8306\n",
      "Epoch 9/20\n",
      "176/176 [==============================] - 1s 4ms/step - loss: 0.3767 - accuracy: 0.8367\n",
      "Epoch 10/20\n",
      "176/176 [==============================] - 1s 4ms/step - loss: 0.3642 - accuracy: 0.8438\n",
      "Epoch 11/20\n",
      "176/176 [==============================] - 1s 5ms/step - loss: 0.3582 - accuracy: 0.8476\n",
      "Epoch 12/20\n",
      "176/176 [==============================] - 1s 4ms/step - loss: 0.3419 - accuracy: 0.8569\n",
      "Epoch 13/20\n",
      "176/176 [==============================] - 1s 3ms/step - loss: 0.3335 - accuracy: 0.8597\n",
      "Epoch 14/20\n",
      "176/176 [==============================] - 1s 5ms/step - loss: 0.3212 - accuracy: 0.8672\n",
      "Epoch 15/20\n",
      "176/176 [==============================] - 1s 4ms/step - loss: 0.3089 - accuracy: 0.8777\n",
      "Epoch 16/20\n",
      "176/176 [==============================] - 1s 4ms/step - loss: 0.2984 - accuracy: 0.8769\n",
      "Epoch 17/20\n",
      "176/176 [==============================] - 1s 5ms/step - loss: 0.2864 - accuracy: 0.8835\n",
      "Epoch 18/20\n",
      "176/176 [==============================] - 1s 4ms/step - loss: 0.2750 - accuracy: 0.8910\n",
      "Epoch 19/20\n",
      "176/176 [==============================] - 1s 4ms/step - loss: 0.2718 - accuracy: 0.8902\n",
      "Epoch 20/20\n",
      "176/176 [==============================] - 1s 4ms/step - loss: 0.2637 - accuracy: 0.8931\n"
     ]
    },
    {
     "data": {
      "text/plain": [
       "<keras.callbacks.History at 0x19c73eed420>"
      ]
     },
     "execution_count": 47,
     "metadata": {},
     "output_type": "execute_result"
    }
   ],
   "source": [
    "model_7.fit(x=X_train, y=y_train_le, epochs=20)"
   ]
  },
  {
   "cell_type": "code",
   "execution_count": 48,
   "id": "da774029",
   "metadata": {},
   "outputs": [
    {
     "name": "stdout",
     "output_type": "stream",
     "text": [
      "Model: \"sequential_8\"\n",
      "_________________________________________________________________\n",
      " Layer (type)                Output Shape              Param #   \n",
      "=================================================================\n",
      " lstm_14 (LSTM)              (None, 10)                1240      \n",
      "                                                                 \n",
      " dense_8 (Dense)             (None, 3)                 33        \n",
      "                                                                 \n",
      "=================================================================\n",
      "Total params: 1,273\n",
      "Trainable params: 1,273\n",
      "Non-trainable params: 0\n",
      "_________________________________________________________________\n"
     ]
    }
   ],
   "source": [
    "model_7.summary()"
   ]
  },
  {
   "cell_type": "code",
   "execution_count": 49,
   "id": "f46758e7",
   "metadata": {},
   "outputs": [
    {
     "name": "stdout",
     "output_type": "stream",
     "text": [
      "44/44 [==============================] - 1s 3ms/step - loss: 0.1432 - accuracy: 0.9472\n"
     ]
    },
    {
     "data": {
      "text/plain": [
       "[0.14319317042827606, 0.9471805691719055]"
      ]
     },
     "execution_count": 49,
     "metadata": {},
     "output_type": "execute_result"
    }
   ],
   "source": [
    "model_1.evaluate(x=X_test, y=y_test_le)"
   ]
  },
  {
   "cell_type": "code",
   "execution_count": 50,
   "id": "aeebd28d",
   "metadata": {},
   "outputs": [
    {
     "name": "stdout",
     "output_type": "stream",
     "text": [
      "44/44 [==============================] - 0s 3ms/step - loss: 0.1926 - accuracy: 0.9172\n"
     ]
    },
    {
     "data": {
      "text/plain": [
       "[0.19263756275177002, 0.9172019958496094]"
      ]
     },
     "execution_count": 50,
     "metadata": {},
     "output_type": "execute_result"
    }
   ],
   "source": [
    "model_2.evaluate(x=X_test, y=y_test_le)"
   ]
  },
  {
   "cell_type": "code",
   "execution_count": 51,
   "id": "bb27dbd4",
   "metadata": {},
   "outputs": [
    {
     "name": "stdout",
     "output_type": "stream",
     "text": [
      "44/44 [==============================] - 1s 5ms/step - loss: 0.2010 - accuracy: 0.9158\n"
     ]
    },
    {
     "data": {
      "text/plain": [
       "[0.20100711286067963, 0.9157744646072388]"
      ]
     },
     "execution_count": 51,
     "metadata": {},
     "output_type": "execute_result"
    }
   ],
   "source": [
    "model_3.evaluate(x=X_test, y=y_test_le)"
   ]
  },
  {
   "cell_type": "code",
   "execution_count": 52,
   "id": "6f129a4f",
   "metadata": {},
   "outputs": [
    {
     "name": "stdout",
     "output_type": "stream",
     "text": [
      "44/44 [==============================] - 0s 3ms/step - loss: 0.1438 - accuracy: 0.9429\n"
     ]
    },
    {
     "data": {
      "text/plain": [
       "[0.14379054307937622, 0.9428979158401489]"
      ]
     },
     "execution_count": 52,
     "metadata": {},
     "output_type": "execute_result"
    }
   ],
   "source": [
    "model_4.evaluate(x=X_test, y=y_test_le)"
   ]
  },
  {
   "cell_type": "code",
   "execution_count": 53,
   "id": "97cf948c",
   "metadata": {},
   "outputs": [
    {
     "name": "stdout",
     "output_type": "stream",
     "text": [
      "44/44 [==============================] - 1s 4ms/step - loss: 0.1258 - accuracy: 0.9465\n"
     ]
    },
    {
     "data": {
      "text/plain": [
       "[0.1257847100496292, 0.9464668035507202]"
      ]
     },
     "execution_count": 53,
     "metadata": {},
     "output_type": "execute_result"
    }
   ],
   "source": [
    "model_5.evaluate(x=X_test, y=y_test_le)"
   ]
  },
  {
   "cell_type": "code",
   "execution_count": 54,
   "id": "41be6be7",
   "metadata": {},
   "outputs": [
    {
     "name": "stdout",
     "output_type": "stream",
     "text": [
      "44/44 [==============================] - 1s 3ms/step - loss: 0.2046 - accuracy: 0.9122\n"
     ]
    },
    {
     "data": {
      "text/plain": [
       "[0.2045535147190094, 0.9122055768966675]"
      ]
     },
     "execution_count": 54,
     "metadata": {},
     "output_type": "execute_result"
    }
   ],
   "source": [
    "model_6.evaluate(x=X_test, y=y_test_le)"
   ]
  },
  {
   "cell_type": "code",
   "execution_count": 55,
   "id": "ccac2204",
   "metadata": {},
   "outputs": [
    {
     "name": "stdout",
     "output_type": "stream",
     "text": [
      "44/44 [==============================] - 0s 2ms/step - loss: 0.2376 - accuracy: 0.9108\n"
     ]
    },
    {
     "data": {
      "text/plain": [
       "[0.23762109875679016, 0.9107779860496521]"
      ]
     },
     "execution_count": 55,
     "metadata": {},
     "output_type": "execute_result"
    }
   ],
   "source": [
    "model_7.evaluate(x=X_test, y=y_test_le)"
   ]
  },
  {
   "cell_type": "code",
   "execution_count": null,
   "id": "80c02c43",
   "metadata": {},
   "outputs": [],
   "source": []
  }
 ],
 "metadata": {
  "kernelspec": {
   "display_name": "Python 3 (ipykernel)",
   "language": "python",
   "name": "python3"
  },
  "language_info": {
   "codemirror_mode": {
    "name": "ipython",
    "version": 3
   },
   "file_extension": ".py",
   "mimetype": "text/x-python",
   "name": "python",
   "nbconvert_exporter": "python",
   "pygments_lexer": "ipython3",
   "version": "3.10.9"
  }
 },
 "nbformat": 4,
 "nbformat_minor": 5
}
